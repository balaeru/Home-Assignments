{
 "cells": [
  {
   "cell_type": "code",
   "execution_count": 2,
   "metadata": {
    "id": "zj0qj9Z3vGYT"
   },
   "outputs": [
    {
     "name": "stdout",
     "output_type": "stream",
     "text": [
      "<class 'int'>\n",
      "<class 'float'>\n",
      "<class 'complex'>\n"
     ]
    }
   ],
   "source": [
    "# print the type of x,y,z\n",
    "\n",
    "x = 1  \n",
    "y = 2.8  \n",
    "z = 1j\n",
    "\n",
    "print(type(x))\n",
    "print(type(y))\n",
    "print(type(z))"
   ]
  },
  {
   "cell_type": "code",
   "execution_count": 4,
   "metadata": {
    "colab": {
     "base_uri": "https://localhost:8080/"
    },
    "id": "AljHnQDuvT4s",
    "outputId": "4a5fc9d9-3d61-4f17-8392-e6c182e46abd"
   },
   "outputs": [
    {
     "name": "stdout",
     "output_type": "stream",
     "text": [
      "x = 1\n",
      "<class 'int'>\n"
     ]
    }
   ],
   "source": [
    "# Convert flot into int \n",
    "\n",
    "x=1.4\n",
    "x=int(x)\n",
    "print('x =',x)\n",
    "print(type(x))"
   ]
  },
  {
   "cell_type": "code",
   "execution_count": 8,
   "metadata": {
    "id": "pXCgmrggvfKE"
   },
   "outputs": [
    {
     "name": "stdout",
     "output_type": "stream",
     "text": [
      "5.0\n",
      "3\n",
      "(5+0j)\n"
     ]
    }
   ],
   "source": [
    "#Convert from one type to another:\n",
    "\n",
    "x = 5   # int\n",
    "y = 3.8  # float\n",
    "z = 5   # complex\n",
    "\n",
    "#convert from int to float:\n",
    "x=float(5)\n",
    "\n",
    "#convert from float to int:\n",
    "y=int(3.8)\n",
    "\n",
    "#convert from int to complex:\n",
    "z=complex(5)\n",
    "print(x)\n",
    "print(y)\n",
    "print(z)"
   ]
  },
  {
   "cell_type": "code",
   "execution_count": 9,
   "metadata": {
    "id": "Rm34yvYbweTT"
   },
   "outputs": [
    {
     "name": "stdout",
     "output_type": "stream",
     "text": [
      "8\n"
     ]
    }
   ],
   "source": [
    "# Print 15 random numbers\n",
    "\n",
    "import random\n",
    "\n",
    "print(random.randrange(1, 15))"
   ]
  },
  {
   "cell_type": "code",
   "execution_count": 17,
   "metadata": {
    "id": "eXkc7b3yxYpN"
   },
   "outputs": [
    {
     "name": "stdout",
     "output_type": "stream",
     "text": [
      "Type of x = <class 'str'> \n",
      "Type of y = <class 'str'> \n",
      "Type of z = <class 'str'>\n"
     ]
    }
   ],
   "source": [
    "# Convert int ,float to string \n",
    "\n",
    "x = str(\"t5\") \n",
    "y = str(4)    \n",
    "z = str(6.0)\n",
    "print(f\"Type of x = {type(x)} \\nType of y = {type(y)} \\nType of z = {type(z)}\")"
   ]
  },
  {
   "cell_type": "code",
   "execution_count": 18,
   "metadata": {
    "id": "RDquS0nfxB81"
   },
   "outputs": [
    {
     "name": "stdout",
     "output_type": "stream",
     "text": [
      "xyz\n"
     ]
    }
   ],
   "source": [
    "# Assign a string to variable \n",
    "\n",
    "a=\"xyz\"\n",
    "print(a)"
   ]
  },
  {
   "cell_type": "code",
   "execution_count": 20,
   "metadata": {
    "colab": {
     "base_uri": "https://localhost:8080/"
    },
    "id": "RH-g9oUdypcy",
    "outputId": "62269c11-7039-44c8-a96f-d4f4f3eeb261"
   },
   "outputs": [
    {
     "name": "stdout",
     "output_type": "stream",
     "text": [
      "Hello raj?How are you. \n",
      " Hi Manish.I am fine.\n"
     ]
    }
   ],
   "source": [
    "# Concatenate two string \n",
    "a=\"Hello raj?\"\n",
    "b=\"Hi Manish.\"\n",
    "c=\"How are you.\"\n",
    "d=\"I am fine.\"\n",
    "print(a+c,\"\\n\",b+d)"
   ]
  },
  {
   "cell_type": "code",
   "execution_count": 23,
   "metadata": {
    "colab": {
     "base_uri": "https://localhost:8080/"
    },
    "id": "Z4z8NPqxzXsS",
    "outputId": "c936dddb-0bac-4fb0-a879-3d51da82df73"
   },
   "outputs": [
    {
     "name": "stdout",
     "output_type": "stream",
     "text": [
      "lo , Wor\n"
     ]
    }
   ],
   "source": [
    "# Print the output='lo, Wor'\n",
    "a = \"Hello, World!\"\n",
    "print(a[3:5],',',a[7:10])"
   ]
  },
  {
   "cell_type": "code",
   "execution_count": 25,
   "metadata": {
    "id": "maTfRVHrzA-2"
   },
   "outputs": [
    {
     "name": "stdout",
     "output_type": "stream",
     "text": [
      "True\n"
     ]
    }
   ],
   "source": [
    "# Check the required string/word is in the sentence of not\n",
    "\n",
    "Sentence=\"Hello Indian , I like your culture.\"\n",
    "\n",
    "print('like' in Sentence)"
   ]
  },
  {
   "cell_type": "code",
   "execution_count": 26,
   "metadata": {
    "id": "eyFT8KlO0cMk"
   },
   "outputs": [
    {
     "name": "stdout",
     "output_type": "stream",
     "text": [
      "I Love \n"
     ]
    }
   ],
   "source": [
    "# Print the output='I Love'\n",
    "Sentence=\"I Love India!\"\n",
    "print(Sentence[0:7])"
   ]
  },
  {
   "cell_type": "code",
   "execution_count": 27,
   "metadata": {
    "id": "VP50WkkomLu8"
   },
   "outputs": [
    {
     "name": "stdout",
     "output_type": "stream",
     "text": [
      "I want to pay 49.95 dollars for 3 pieces of item 567.\n"
     ]
    }
   ],
   "source": [
    "#print the output: \n",
    "#I want to pay 49.95 dollars for 3 pieces of item 567\n",
    "\n",
    "quantity = 3\n",
    "itemno = 567\n",
    "price = 49.95\n",
    "myorder = \"I want to pay {2} dollars for {0} pieces of item {1}.\"\n",
    "print(myorder.format(quantity, itemno, price)) "
   ]
  },
  {
   "cell_type": "code",
   "execution_count": 29,
   "metadata": {
    "id": "fcLAtZJUn8dP"
   },
   "outputs": [
    {
     "name": "stdout",
     "output_type": "stream",
     "text": [
      "We will vist 'America' after two days.\n"
     ]
    }
   ],
   "source": [
    "# remove the error\n",
    "Sent = \"We will vist 'America' after two days.\"\n",
    "print(Sent)"
   ]
  },
  {
   "cell_type": "code",
   "execution_count": 32,
   "metadata": {
    "colab": {
     "base_uri": "https://localhost:8080/"
    },
    "id": "NASyDsBbofMs",
    "outputId": "b20ebd1a-7ce6-4c30-a7a5-c1da915c7810"
   },
   "outputs": [
    {
     "name": "stdout",
     "output_type": "stream",
     "text": [
      "Hii Mona, \n",
      "When will we go for holidays ?\n"
     ]
    }
   ],
   "source": [
    "# Print the sentence after comma in next line \n",
    "Sent=\"Hii Mona, \\nWhen will we go for holidays ?\"\n",
    "print(Sent)"
   ]
  },
  {
   "cell_type": "code",
   "execution_count": 33,
   "metadata": {
    "id": "QGOrGORspHnt"
   },
   "outputs": [
    {
     "name": "stdout",
     "output_type": "stream",
     "text": [
      "['Sam', 'Ram', 'Nick']\n"
     ]
    }
   ],
   "source": [
    "# Remove the duplicate from the list \n",
    "List=[\"Ram\",'Sam','Nick','Sam']\n",
    "List = list(set(List))\n",
    "print(List)"
   ]
  },
  {
   "cell_type": "code",
   "execution_count": 37,
   "metadata": {
    "id": "eZfO5og7qk56"
   },
   "outputs": [
    {
     "name": "stdout",
     "output_type": "stream",
     "text": [
      "['orange', 'kiwi', 'melon', 'mango']\n"
     ]
    }
   ],
   "source": [
    "# Print last for element of list by negative Indexing \n",
    "\n",
    "Fruit_list = [\"apple\", \"banana\", \"cherry\", \"orange\", \"kiwi\", \"melon\", \"mango\"]\n",
    "# print(Fruit_list[-1:-5:-1])\n",
    "print(Fruit_list[-4:])"
   ]
  },
  {
   "cell_type": "code",
   "execution_count": 38,
   "metadata": {
    "id": "mPJFzwewrEij"
   },
   "outputs": [
    {
     "name": "stdout",
     "output_type": "stream",
     "text": [
      "['Ram', 'Micky', 'Nick', 'Sam']\n"
     ]
    }
   ],
   "source": [
    "# Replace the first Sam from Micky\n",
    "List=[\"Ram\",'Sam','Nick','Sam']\n",
    "List[1] = 'Micky'\n",
    "print(List)"
   ]
  },
  {
   "cell_type": "code",
   "execution_count": 40,
   "metadata": {
    "id": "pSGdFz2srUMA"
   },
   "outputs": [
    {
     "name": "stdout",
     "output_type": "stream",
     "text": [
      "['Ram', 'Sam', 'Nick', 'Micky', 'Sam']\n"
     ]
    }
   ],
   "source": [
    "# Insert the Micky at 3rd index\n",
    "List=[\"Ram\",'Sam','Nick','Sam']\n",
    "List.insert(3,'Micky')\n",
    "print(List)"
   ]
  },
  {
   "cell_type": "code",
   "execution_count": 42,
   "metadata": {
    "id": "VwK2FyRrroiY"
   },
   "outputs": [
    {
     "name": "stdout",
     "output_type": "stream",
     "text": [
      "('apple', 'banana', 'cherry', 'kiwi')\n"
     ]
    }
   ],
   "source": [
    "# Insert Kiwi in a tuple\n",
    "\n",
    "x = (\"apple\", \"banana\", \"cherry\")\n",
    "y = list(x)\n",
    "y.append(\"kiwi\")\n",
    "x = tuple(y)\n",
    "print(x)"
   ]
  },
  {
   "cell_type": "code",
   "execution_count": 43,
   "metadata": {
    "id": "UUky7WT4tnRM"
   },
   "outputs": [
    {
     "name": "stdout",
     "output_type": "stream",
     "text": [
      "{'apple', 'kiwi', 'cherry', 'banana'}\n"
     ]
    }
   ],
   "source": [
    "# Add item in set\n",
    "\n",
    "Fruits = {\"apple\", \"banana\", \"cherry\"}\n",
    "\n",
    "Fruits.add(\"kiwi\")\n",
    "\n",
    "print(Fruits)"
   ]
  },
  {
   "cell_type": "code",
   "execution_count": 45,
   "metadata": {
    "id": "NKHoF69hueSK"
   },
   "outputs": [
    {
     "name": "stdout",
     "output_type": "stream",
     "text": [
      "{'cherry', 'pineapple', 'banana', 'apple', 'papaya', 'mango'}\n"
     ]
    }
   ],
   "source": [
    "# Add two set\n",
    "Fruit1 = {\"apple\", \"banana\", \"cherry\"}\n",
    "Fruit2 = {\"pineapple\", \"mango\", \"papaya\"}\n",
    "Fruit1.update(Fruit2)\n",
    "print(Fruit1)"
   ]
  },
  {
   "cell_type": "code",
   "execution_count": 47,
   "metadata": {
    "id": "Z5YUZ2dUvbwK"
   },
   "outputs": [
    {
     "name": "stdout",
     "output_type": "stream",
     "text": [
      "{'Prince', 'KUmar'}\n"
     ]
    }
   ],
   "source": [
    "# Remove the any item from the set\n",
    "set1={\"Krishh\",\"Prince\",\"KUmar\"}\n",
    "set1.remove('Krishh')\n",
    "print(set1)"
   ]
  },
  {
   "cell_type": "code",
   "execution_count": 48,
   "metadata": {
    "id": "_f_XIOsVvtz5"
   },
   "outputs": [
    {
     "name": "stdout",
     "output_type": "stream",
     "text": [
      "dict_keys(['brand', 'model', 'year'])\n",
      "dict_keys(['brand', 'model', 'year', 'color'])\n"
     ]
    }
   ],
   "source": [
    "#Add a new item to the original dictionary, and see that the keys list gets updated as well:\n",
    "Bike = {\n",
    "\"brand\": \"Bajaj\",\n",
    "\"model\": \"TVS\",\n",
    "\"year\": 2013\n",
    "}\n",
    "\n",
    "x = Bike.keys()\n",
    "\n",
    "print(x) #before the change\n",
    "\n",
    "Bike[\"color\"] = \"Red\"\n",
    "\n",
    "print(x) #after the change"
   ]
  },
  {
   "cell_type": "code",
   "execution_count": 50,
   "metadata": {
    "id": "m8OtEPYfwaqX"
   },
   "outputs": [
    {
     "name": "stdout",
     "output_type": "stream",
     "text": [
      "{'brand': 'Ford', 'model': 'Mustang', 'year': 2020}\n"
     ]
    }
   ],
   "source": [
    "#Update the item from the Dict\n",
    "Car = {\n",
    "  \"brand\": \"Ford\",\n",
    "  \"model\": \"Mustang\",\n",
    "  \"year\": 1964\n",
    "}\n",
    "Car.update({\"year\": 2020})\n",
    "print(Car)"
   ]
  },
  {
   "cell_type": "code",
   "execution_count": 52,
   "metadata": {
    "id": "IknZvic6wvIo"
   },
   "outputs": [
    {
     "data": {
      "text/plain": [
       "dict_items([('brand', 'Ford'), ('model', 'Mustang'), ('year', 1964)])"
      ]
     },
     "execution_count": 52,
     "metadata": {},
     "output_type": "execute_result"
    }
   ],
   "source": [
    "car = {\n",
    "  \"brand\": \"Ford\",\n",
    "  \"model\": \"Mustang\",\n",
    "  \"year\": 1964\n",
    "}\n",
    "car.items()"
   ]
  },
  {
   "cell_type": "code",
   "execution_count": null,
   "metadata": {},
   "outputs": [],
   "source": []
  }
 ],
 "metadata": {
  "colab": {
   "collapsed_sections": [],
   "name": "Basic_Dtype_home_assig.ipynb",
   "provenance": []
  },
  "kernelspec": {
   "display_name": "Python 3",
   "language": "python",
   "name": "python3"
  },
  "language_info": {
   "codemirror_mode": {
    "name": "ipython",
    "version": 3
   },
   "file_extension": ".py",
   "mimetype": "text/x-python",
   "name": "python",
   "nbconvert_exporter": "python",
   "pygments_lexer": "ipython3",
   "version": "3.8.8"
  }
 },
 "nbformat": 4,
 "nbformat_minor": 1
}
