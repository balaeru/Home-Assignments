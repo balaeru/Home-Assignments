{
 "cells": [
  {
   "cell_type": "raw",
   "id": "25606c42",
   "metadata": {},
   "source": [
    "Q1.\tPrint the following pattern\n",
    "\n",
    "1\n",
    "1 2\n",
    "1 2 3\n",
    "1 2 3 4\n",
    "1 2 3 4 5"
   ]
  },
  {
   "cell_type": "code",
   "execution_count": 1,
   "id": "e25fb2ea",
   "metadata": {
    "scrolled": true
   },
   "outputs": [
    {
     "name": "stdout",
     "output_type": "stream",
     "text": [
      "1 \n",
      "1 2 \n",
      "1 2 3 \n",
      "1 2 3 4 \n",
      "1 2 3 4 5 \n"
     ]
    }
   ],
   "source": [
    "for i in range(1,6):\n",
    "    for j in range(1,i+1):\n",
    "        print(j, end=' ')\n",
    "    print('')"
   ]
  },
  {
   "cell_type": "markdown",
   "id": "046ac8d1",
   "metadata": {},
   "source": [
    "Q2.\tAccept the number from a user and calculate the sum of all numbers from 1 to a given number"
   ]
  },
  {
   "cell_type": "code",
   "execution_count": 2,
   "id": "01350703",
   "metadata": {},
   "outputs": [
    {
     "name": "stdout",
     "output_type": "stream",
     "text": [
      "Enter a Number: 6\n",
      "The Sum of all number from 1 to 6(inclusive): 21\n"
     ]
    }
   ],
   "source": [
    "num = int(input('Enter a Number: '))\n",
    "sum = 0\n",
    "for i in range(1,num+1):      # If we need the sum exclusive of the given number range should be (1,num)\n",
    "    sum+=i\n",
    "print(f'The Sum of all number from 1 to {num}(inclusive): {sum}')"
   ]
  },
  {
   "cell_type": "markdown",
   "id": "96b57236",
   "metadata": {},
   "source": [
    "Q3.\tGiven a list, iterate it, and display numbers divisible by five, and if you find a number greater than 150, stop the loop iteration\n",
    "List = [10,20,34,44,52,71,129,139,150,171,222]"
   ]
  },
  {
   "cell_type": "code",
   "execution_count": 3,
   "id": "995bc015",
   "metadata": {},
   "outputs": [
    {
     "name": "stdout",
     "output_type": "stream",
     "text": [
      "Numbers divisible by five in the given list: [10, 20, 150]\n"
     ]
    }
   ],
   "source": [
    "l = [10,20,34,44,52,71,129,139,150,171,222]\n",
    "result = []\n",
    "for i in l:\n",
    "    if i%5 == 0:\n",
    "        result.append(i)\n",
    "    if i > 150:\n",
    "        break          # This is to stop the loop iteration when it finds the value above 150\n",
    "print(f'Numbers divisible by five in the given list: {result}')"
   ]
  },
  {
   "cell_type": "markdown",
   "id": "1adbcb88",
   "metadata": {},
   "source": [
    "Q4.\tReverse the following list using loops\n",
    "List = [20,25,15,35,65,90]"
   ]
  },
  {
   "cell_type": "code",
   "execution_count": 4,
   "id": "43eda1bd",
   "metadata": {},
   "outputs": [
    {
     "name": "stdout",
     "output_type": "stream",
     "text": [
      "Reverse of the given List is:  [90, 65, 35, 15, 25, 20]\n"
     ]
    }
   ],
   "source": [
    "List = [20,25,15,35,65,90]\n",
    "result = []\n",
    "for i in List:\n",
    "    result.insert(0,i)\n",
    "print('Reverse of the given List is: ', result)"
   ]
  },
  {
   "cell_type": "markdown",
   "id": "9521b926",
   "metadata": {},
   "source": [
    "Q5.\tWrite a program to display all prime numbers within a Range\n",
    "\n",
    "Start = 20\n",
    "\n",
    "Stop = 45"
   ]
  },
  {
   "cell_type": "code",
   "execution_count": 5,
   "id": "f837be75",
   "metadata": {},
   "outputs": [
    {
     "name": "stdout",
     "output_type": "stream",
     "text": [
      "Prime Numbers in the given range:  [23, 29, 31, 37, 41, 43]\n"
     ]
    }
   ],
   "source": [
    "start = 20                         # We can also take user input for these for user given range\n",
    "stop = 45\n",
    "primes = []\n",
    "for i in range(start,stop+1):\n",
    "    count = 0\n",
    "    for j in range(1,i):\n",
    "        if i%j == 0:\n",
    "            count += 1\n",
    "    if count == 1:\n",
    "        primes.append(i)\n",
    "print('Prime Numbers in the given range: ', primes)"
   ]
  }
 ],
 "metadata": {
  "kernelspec": {
   "display_name": "Python 3",
   "language": "python",
   "name": "python3"
  },
  "language_info": {
   "codemirror_mode": {
    "name": "ipython",
    "version": 3
   },
   "file_extension": ".py",
   "mimetype": "text/x-python",
   "name": "python",
   "nbconvert_exporter": "python",
   "pygments_lexer": "ipython3",
   "version": "3.8.8"
  }
 },
 "nbformat": 4,
 "nbformat_minor": 5
}
