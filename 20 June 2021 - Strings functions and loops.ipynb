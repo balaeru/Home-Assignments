{
 "cells": [
  {
   "cell_type": "markdown",
   "metadata": {},
   "source": [
    "Q1. count words and characters in below string: # mainString = 'Data Science 2020 batch'"
   ]
  },
  {
   "cell_type": "code",
   "execution_count": 27,
   "metadata": {},
   "outputs": [
    {
     "name": "stdout",
     "output_type": "stream",
     "text": [
      "Number of words in the string are: 4\n",
      "Number of characters in the string are:  23\n"
     ]
    }
   ],
   "source": [
    "mainString = 'Data Science 2020 batch'\n",
    "words = mainString.split()\n",
    "print(f\"Number of words in the string are: {len(words)}\")\n",
    "count = 0\n",
    "for i in mainString:\n",
    "    count+=1\n",
    "print(\"Number of characters in the string are: \",count)"
   ]
  },
  {
   "cell_type": "markdown",
   "metadata": {},
   "source": [
    "Q2. Extract mobile number : # mainString = 'My number is 8888888888'"
   ]
  },
  {
   "cell_type": "code",
   "execution_count": 28,
   "metadata": {},
   "outputs": [
    {
     "name": "stdout",
     "output_type": "stream",
     "text": [
      "The Phone Number is:  8888888888\n"
     ]
    }
   ],
   "source": [
    "mainString = 'My number is 8888888888'\n",
    "words = mainString.split()\n",
    "for i in words:\n",
    "    if i.isnumeric():\n",
    "        print(\"The Phone Number is: \",i)"
   ]
  },
  {
   "cell_type": "markdown",
   "metadata": {},
   "source": [
    "Q3. Extract email addresss : # mainString = 'My email is  abc@g.com'\n"
   ]
  },
  {
   "cell_type": "code",
   "execution_count": 29,
   "metadata": {},
   "outputs": [
    {
     "name": "stdout",
     "output_type": "stream",
     "text": [
      "Email address is:  abc@g.com\n"
     ]
    }
   ],
   "source": [
    "mainString = 'My email is  abc@g.com'\n",
    "words = mainString.split()\n",
    "for i in words:\n",
    "    if '@' in i:\n",
    "        print(\"Email address is: \",i)"
   ]
  },
  {
   "cell_type": "markdown",
   "metadata": {},
   "source": [
    "Q4. fibanocci series for 10 numbers: # example : result = 0, 1, 1, 2, 3, 5, 8, 13, 21, 34\n"
   ]
  },
  {
   "cell_type": "code",
   "execution_count": 47,
   "metadata": {
    "tags": []
   },
   "outputs": [
    {
     "name": "stdout",
     "output_type": "stream",
     "text": [
      "Fibonacci sequence upto 10 digits: 0 1 1 2 3 5 8 13 21 34 55 "
     ]
    }
   ],
   "source": [
    "n1, n2 = 0, 1\n",
    "count = 0\n",
    "x = int(input('Enter the Number of Fibonacci numbers you would like:'))\n",
    "if x <= 0:\n",
    "    print('Error! Please Enter a positive integer!')\n",
    "elif x == 1:\n",
    "    print('Fibonacci sequence upto',x,'digit:', end=' ')\n",
    "    print(n1)\n",
    "else:\n",
    "    print('Fibonacci sequence upto',x,'digits:',end=' ')\n",
    "    while count <= x:\n",
    "        print(n1,end=' ')\n",
    "        n3 = n1 + n2\n",
    "        n1 = n2\n",
    "        n2 = n3\n",
    "        count += 1"
   ]
  },
  {
   "cell_type": "markdown",
   "metadata": {},
   "source": [
    "Q5. collect name of 3 employees and show them in list"
   ]
  },
  {
   "cell_type": "code",
   "execution_count": 52,
   "metadata": {},
   "outputs": [
    {
     "name": "stdout",
     "output_type": "stream",
     "text": [
      "List of Employee Names: ['Jack', 'John', 'Sam']\n"
     ]
    }
   ],
   "source": [
    "names = []\n",
    "temp = 1\n",
    "while temp <= 3:\n",
    "    a = str(input(f'Enter the name of employee#{temp}:'))\n",
    "    names.append(a)\n",
    "    temp += 1\n",
    "print('List of Employee Names:',names)"
   ]
  },
  {
   "cell_type": "markdown",
   "metadata": {},
   "source": [
    "Q6. Remove a value from string by taking index from the user: # stringName = \"Hello Participants 2020\""
   ]
  },
  {
   "cell_type": "code",
   "execution_count": 80,
   "metadata": {},
   "outputs": [
    {
     "name": "stdout",
     "output_type": "stream",
     "text": [
      "Original string: Hello Participants 2020\n",
      "Updated String: Hello articipants 2020\n"
     ]
    }
   ],
   "source": [
    "s = \"Hello Participants 2020\"\n",
    "index = int(input('Enter the Index Number that you would like to remove:'))\n",
    "if index >= len(s):\n",
    "    print('Error! Index out of range!')\n",
    "else:\n",
    "    print(f'Original string: {s}')\n",
    "    updated_s = s.replace(s[index],'',1)\n",
    "    print(f'Updated String: {updated_s}')"
   ]
  },
  {
   "cell_type": "code",
   "execution_count": null,
   "metadata": {},
   "outputs": [],
   "source": []
  }
 ],
 "metadata": {
  "interpreter": {
   "hash": "39cc1ae5c3fb11c6e5853763272114417113553fffedf34da5ca8ab71f31839f"
  },
  "kernelspec": {
   "display_name": "Python 3",
   "language": "python",
   "name": "python3"
  },
  "language_info": {
   "codemirror_mode": {
    "name": "ipython",
    "version": 3
   },
   "file_extension": ".py",
   "mimetype": "text/x-python",
   "name": "python",
   "nbconvert_exporter": "python",
   "pygments_lexer": "ipython3",
   "version": "3.8.8"
  }
 },
 "nbformat": 4,
 "nbformat_minor": 2
}
